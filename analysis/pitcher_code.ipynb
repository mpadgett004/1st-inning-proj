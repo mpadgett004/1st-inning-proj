{
 "cells": [
  {
   "cell_type": "code",
   "execution_count": null,
   "id": "3bc862d1",
   "metadata": {},
   "outputs": [],
   "source": [
    "from splinter import Browser\n",
    "from bs4 import BeautifulSoup as bs\n",
    "import requests\n",
    "import os\n",
    "import pandas as pd\n",
    "from selenium import webdriver"
   ]
  },
  {
   "cell_type": "code",
   "execution_count": null,
   "id": "904ea921",
   "metadata": {},
   "outputs": [],
   "source": [
    "#CODE TO GET PITCHER DATA\n",
    "p_specific_url = 'https://www.baseball-reference.com//boxes/MIN/MIN202105060.shtml'\n",
    "\n",
    "driver = webdriver.Chrome()\n",
    "p_response = driver.get(p_specific_url)\n",
    "stages = driver.find_elements_by_class_name('data_grid_box')\n",
    "driver.close()\n",
    "# p_soup = bs(driver.page_source, 'html.parser')\n",
    "\n",
    "# pitcher1 = p_soup.find('h2', text='Starting Lineups')\n",
    "\n",
    "# pitcher1 = p_soup.find_all('td')\n",
    "# print(pitcher1)\n"
   ]
  }
 ],
 "metadata": {
  "kernelspec": {
   "display_name": "Python [conda env:PythonAdv] *",
   "language": "python",
   "name": "conda-env-PythonAdv-py"
  },
  "language_info": {
   "codemirror_mode": {
    "name": "ipython",
    "version": 3
   },
   "file_extension": ".py",
   "mimetype": "text/x-python",
   "name": "python",
   "nbconvert_exporter": "python",
   "pygments_lexer": "ipython3",
   "version": "3.6.13"
  }
 },
 "nbformat": 4,
 "nbformat_minor": 5
}
